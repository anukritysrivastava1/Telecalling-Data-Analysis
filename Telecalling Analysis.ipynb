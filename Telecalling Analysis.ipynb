{
 "cells": [
  {
   "cell_type": "code",
   "execution_count": 42,
   "id": "1348a812",
   "metadata": {},
   "outputs": [
    {
     "name": "stdout",
     "output_type": "stream",
     "text": [
      "   From Mobile   To Mobile  Call Duration\n",
      "0   9898989898  8989898989       00:05:23\n",
      "1   1898989898  9989898989       01:00:23\n",
      "2   2898989898  7989898989       00:00:21\n",
      "3   2898989898  6989898989       00:00:23\n",
      "4   4898989898  5989898989       00:01:23\n"
     ]
    }
   ],
   "source": [
    "import numpy as np \n",
    "import pandas as pd\n",
    "import matplotlib.pyplot as plt\n",
    "import seaborn as sns\n",
    "%matplotlib inline\n",
    "data = pd.read_csv(\"log.csv\")\n",
    "print(data.head())\n",
    "data[' Call Duration']= pd.to_datetime(data[' Call Duration'], format=\" %H:%M:%S\")\n"
   ]
  },
  {
   "cell_type": "code",
   "execution_count": 187,
   "id": "21cfb11d",
   "metadata": {},
   "outputs": [
    {
     "data": {
      "text/html": [
       "<div>\n",
       "<style scoped>\n",
       "    .dataframe tbody tr th:only-of-type {\n",
       "        vertical-align: middle;\n",
       "    }\n",
       "\n",
       "    .dataframe tbody tr th {\n",
       "        vertical-align: top;\n",
       "    }\n",
       "\n",
       "    .dataframe thead th {\n",
       "        text-align: right;\n",
       "    }\n",
       "</style>\n",
       "<table border=\"1\" class=\"dataframe\">\n",
       "  <thead>\n",
       "    <tr style=\"text-align: right;\">\n",
       "      <th></th>\n",
       "      <th>From Mobile</th>\n",
       "      <th>To Mobile</th>\n",
       "      <th>Call Duration</th>\n",
       "      <th>HR</th>\n",
       "      <th>MIN</th>\n",
       "      <th>SEC</th>\n",
       "      <th>Total Duration in seconds</th>\n",
       "    </tr>\n",
       "  </thead>\n",
       "  <tbody>\n",
       "    <tr>\n",
       "      <th>0</th>\n",
       "      <td>9898989898</td>\n",
       "      <td>8989898989</td>\n",
       "      <td>1900-01-01 00:05:23</td>\n",
       "      <td>0</td>\n",
       "      <td>5</td>\n",
       "      <td>23</td>\n",
       "      <td>323</td>\n",
       "    </tr>\n",
       "    <tr>\n",
       "      <th>1</th>\n",
       "      <td>1898989898</td>\n",
       "      <td>9989898989</td>\n",
       "      <td>1900-01-01 01:00:23</td>\n",
       "      <td>1</td>\n",
       "      <td>0</td>\n",
       "      <td>23</td>\n",
       "      <td>3623</td>\n",
       "    </tr>\n",
       "    <tr>\n",
       "      <th>2</th>\n",
       "      <td>2898989898</td>\n",
       "      <td>7989898989</td>\n",
       "      <td>1900-01-01 00:00:21</td>\n",
       "      <td>0</td>\n",
       "      <td>0</td>\n",
       "      <td>21</td>\n",
       "      <td>21</td>\n",
       "    </tr>\n",
       "    <tr>\n",
       "      <th>3</th>\n",
       "      <td>2898989898</td>\n",
       "      <td>6989898989</td>\n",
       "      <td>1900-01-01 00:00:23</td>\n",
       "      <td>0</td>\n",
       "      <td>0</td>\n",
       "      <td>23</td>\n",
       "      <td>23</td>\n",
       "    </tr>\n",
       "    <tr>\n",
       "      <th>4</th>\n",
       "      <td>4898989898</td>\n",
       "      <td>5989898989</td>\n",
       "      <td>1900-01-01 00:01:23</td>\n",
       "      <td>0</td>\n",
       "      <td>1</td>\n",
       "      <td>23</td>\n",
       "      <td>83</td>\n",
       "    </tr>\n",
       "    <tr>\n",
       "      <th>5</th>\n",
       "      <td>5898989898</td>\n",
       "      <td>4989898989</td>\n",
       "      <td>1900-01-01 00:05:55</td>\n",
       "      <td>0</td>\n",
       "      <td>5</td>\n",
       "      <td>55</td>\n",
       "      <td>355</td>\n",
       "    </tr>\n",
       "    <tr>\n",
       "      <th>6</th>\n",
       "      <td>5898989898</td>\n",
       "      <td>3989898989</td>\n",
       "      <td>1900-01-01 00:00:23</td>\n",
       "      <td>0</td>\n",
       "      <td>0</td>\n",
       "      <td>23</td>\n",
       "      <td>23</td>\n",
       "    </tr>\n",
       "    <tr>\n",
       "      <th>7</th>\n",
       "      <td>7898989898</td>\n",
       "      <td>2989898989</td>\n",
       "      <td>1900-01-01 00:02:23</td>\n",
       "      <td>0</td>\n",
       "      <td>2</td>\n",
       "      <td>23</td>\n",
       "      <td>143</td>\n",
       "    </tr>\n",
       "    <tr>\n",
       "      <th>8</th>\n",
       "      <td>8898989898</td>\n",
       "      <td>1189898989</td>\n",
       "      <td>1900-01-01 00:05:20</td>\n",
       "      <td>0</td>\n",
       "      <td>5</td>\n",
       "      <td>20</td>\n",
       "      <td>320</td>\n",
       "    </tr>\n",
       "    <tr>\n",
       "      <th>9</th>\n",
       "      <td>1098989898</td>\n",
       "      <td>8459898989</td>\n",
       "      <td>1900-01-01 00:00:23</td>\n",
       "      <td>0</td>\n",
       "      <td>0</td>\n",
       "      <td>23</td>\n",
       "      <td>23</td>\n",
       "    </tr>\n",
       "    <tr>\n",
       "      <th>10</th>\n",
       "      <td>1898989898</td>\n",
       "      <td>8967898989</td>\n",
       "      <td>1900-01-01 00:00:40</td>\n",
       "      <td>0</td>\n",
       "      <td>0</td>\n",
       "      <td>40</td>\n",
       "      <td>40</td>\n",
       "    </tr>\n",
       "    <tr>\n",
       "      <th>11</th>\n",
       "      <td>2898989898</td>\n",
       "      <td>8989898989</td>\n",
       "      <td>1900-01-01 00:05:23</td>\n",
       "      <td>0</td>\n",
       "      <td>5</td>\n",
       "      <td>23</td>\n",
       "      <td>323</td>\n",
       "    </tr>\n",
       "  </tbody>\n",
       "</table>\n",
       "</div>"
      ],
      "text/plain": [
       "    From Mobile   To Mobile       Call Duration  HR  MIN  SEC  \\\n",
       "0    9898989898  8989898989 1900-01-01 00:05:23   0    5   23   \n",
       "1    1898989898  9989898989 1900-01-01 01:00:23   1    0   23   \n",
       "2    2898989898  7989898989 1900-01-01 00:00:21   0    0   21   \n",
       "3    2898989898  6989898989 1900-01-01 00:00:23   0    0   23   \n",
       "4    4898989898  5989898989 1900-01-01 00:01:23   0    1   23   \n",
       "5    5898989898  4989898989 1900-01-01 00:05:55   0    5   55   \n",
       "6    5898989898  3989898989 1900-01-01 00:00:23   0    0   23   \n",
       "7    7898989898  2989898989 1900-01-01 00:02:23   0    2   23   \n",
       "8    8898989898  1189898989 1900-01-01 00:05:20   0    5   20   \n",
       "9    1098989898  8459898989 1900-01-01 00:00:23   0    0   23   \n",
       "10   1898989898  8967898989 1900-01-01 00:00:40   0    0   40   \n",
       "11   2898989898  8989898989 1900-01-01 00:05:23   0    5   23   \n",
       "\n",
       "    Total Duration in seconds  \n",
       "0                         323  \n",
       "1                        3623  \n",
       "2                          21  \n",
       "3                          23  \n",
       "4                          83  \n",
       "5                         355  \n",
       "6                          23  \n",
       "7                         143  \n",
       "8                         320  \n",
       "9                          23  \n",
       "10                         40  \n",
       "11                        323  "
      ]
     },
     "execution_count": 187,
     "metadata": {},
     "output_type": "execute_result"
    }
   ],
   "source": [
    "data['HR'] = data[' Call Duration'].dt.hour\n",
    "data['MIN'] = data[' Call Duration'].dt.minute\n",
    "data['SEC'] = data[' Call Duration'].dt.second\n",
    "data['Total Duration in seconds'] = data['HR']*3600 + data['MIN']*60+data['SEC']\n",
    "data"
   ]
  },
  {
   "cell_type": "markdown",
   "id": "c04931f6",
   "metadata": {},
   "source": [
    "## 1. Find the distinct From Numbers for a day"
   ]
  },
  {
   "cell_type": "code",
   "execution_count": 203,
   "id": "3eefb52b",
   "metadata": {},
   "outputs": [
    {
     "data": {
      "text/plain": [
       "2898989898    3\n",
       "1898989898    2\n",
       "5898989898    2\n",
       "1098989898    1\n",
       "8898989898    1\n",
       "4898989898    1\n",
       "9898989898    1\n",
       "7898989898    1\n",
       "Name: From Mobile, dtype: int64"
      ]
     },
     "execution_count": 203,
     "metadata": {},
     "output_type": "execute_result"
    }
   ],
   "source": [
    "Distinct_number = data['From Mobile'].value_counts()\n",
    "Distinct_number"
   ]
  },
  {
   "cell_type": "code",
   "execution_count": 225,
   "id": "6242eeef",
   "metadata": {},
   "outputs": [
    {
     "data": {
      "image/png": "[encoded data removed]",
      "text/plain": [
       "<Figure size 1080x576 with 1 Axes>"
      ]
     },
     "metadata": {},
     "output_type": "display_data"
    }
   ],
   "source": [
    "plt.figure(figsize=(15, 8))\n",
    "sns.set_style(\"whitegrid\")\n",
    "plt.title(\"Number of Calls made from a number in a day\", fontsize=20)\n",
    "plt.xlabel('From Mobile ',fontsize=15)\n",
    "plt.ylabel('Counts of Call', fontsize=20)\n",
    "ax = sns.barplot(x=Distinct_number.index, y=Distinct_number.values,\n",
    "                 data=data,\n",
    "                 errwidth=0)\n",
    "\n",
    "plt.rc('xtick', labelsize=16, ) \n",
    "plt.rc('ytick', labelsize=10, ) \n",
    "plt.ylim(0,5)\n",
    "plt.xticks(rotation='vertical')\n",
    "ax.bar_label(ax.containers[0]);"
   ]
  },
  {
   "cell_type": "markdown",
   "id": "de926345",
   "metadata": {},
   "source": [
    "## 2. Find the distinct From Numbers who used the Free Plan. (Call Duration less than 1 min)"
   ]
  },
  {
   "cell_type": "code",
   "execution_count": 226,
   "id": "f9929c7e",
   "metadata": {
    "scrolled": true
   },
   "outputs": [
    {
     "data": {
      "text/plain": [
       "2898989898    2\n",
       "5898989898    1\n",
       "1098989898    1\n",
       "1898989898    1\n",
       "Name: From Mobile, dtype: int64"
      ]
     },
     "execution_count": 226,
     "metadata": {},
     "output_type": "execute_result"
    }
   ],
   "source": [
    "d = data[['From Mobile','Total Duration in seconds']][data['Total Duration in seconds']<60]\n",
    "d = d['From Mobile'].value_counts()\n",
    "d"
   ]
  },
  {
   "cell_type": "code",
   "execution_count": 229,
   "id": "35d71dec",
   "metadata": {},
   "outputs": [
    {
     "data": {
      "image/png": "[encoded data removed]",
      "text/plain": [
       "<Figure size 720x576 with 1 Axes>"
      ]
     },
     "metadata": {},
     "output_type": "display_data"
    }
   ],
   "source": [
    "plt.figure(figsize=(10, 8))\n",
    "sns.set_style(\"whitegrid\")\n",
    "plt.title(\"Number of Calls made from a number in a day\", fontsize=20)\n",
    "plt.xlabel('From Mobile ',fontsize=15)\n",
    "plt.ylabel('Counts of Call', fontsize=20)\n",
    "ax = sns.barplot(x=d.index, y=d.values,\n",
    "                 data=data,\n",
    "                 errwidth=-1)\n",
    "\n",
    "plt.rc('xtick', labelsize=16, ) \n",
    "plt.rc('ytick', labelsize=10, ) \n",
    "plt.ylim(0,5)\n",
    "plt.xticks(rotation='vertical')\n",
    "ax.bar_label(ax.containers[0]);"
   ]
  },
  {
   "cell_type": "markdown",
   "id": "d7d26725",
   "metadata": {},
   "source": [
    "## 3. Find the total call duration with respect to From Number"
   ]
  },
  {
   "cell_type": "code",
   "execution_count": 183,
   "id": "40e5ad66",
   "metadata": {},
   "outputs": [
    {
     "data": {
      "text/plain": [
       "5300"
      ]
     },
     "execution_count": 183,
     "metadata": {},
     "output_type": "execute_result"
    }
   ],
   "source": [
    "b = data[['From Mobile','Total Duration in seconds']]\n",
    "b= b.groupby('From Mobile')['Total Duration in seconds'].sum() \n",
    "b.values.sum()"
   ]
  },
  {
   "cell_type": "markdown",
   "id": "12087dde",
   "metadata": {},
   "source": [
    "## 4. Find the total income for a day. (Cost to be considered for Call Duration greater 1 min)"
   ]
  },
  {
   "cell_type": "code",
   "execution_count": 202,
   "id": "d3debf63",
   "metadata": {},
   "outputs": [
    {
     "name": "stdout",
     "output_type": "stream",
     "text": [
      "0      323\n",
      "1     3623\n",
      "4       83\n",
      "5      355\n",
      "7      143\n",
      "8      320\n",
      "11     323\n",
      "Name: Total Duration in seconds, dtype: int64\n"
     ]
    },
    {
     "data": {
      "text/plain": [
       "2700"
      ]
     },
     "execution_count": 202,
     "metadata": {},
     "output_type": "execute_result"
    }
   ],
   "source": [
    "a = data['Total Duration in seconds'][data['Total Duration in seconds']>=60]\n",
    "print(a)\n",
    "price = 0\n",
    "for i in a.values:\n",
    "    if i%60 ==0:\n",
    "        price +=  (30*(i//60))\n",
    "    else:\n",
    "        price += (30*((i//60)+1))\n",
    "price"
   ]
  }
 ],
 "metadata": {
  "kernelspec": {
   "display_name": "Python 3",
   "language": "python",
   "name": "python3"
  },
  "language_info": {
   "codemirror_mode": {
    "name": "ipython",
    "version": 3
   },
   "file_extension": ".py",
   "mimetype": "text/x-python",
   "name": "python",
   "nbconvert_exporter": "python",
   "pygments_lexer": "ipython3",
   "version": "3.9.1"
  }
 },
 "nbformat": 4,
 "nbformat_minor": 5
}
